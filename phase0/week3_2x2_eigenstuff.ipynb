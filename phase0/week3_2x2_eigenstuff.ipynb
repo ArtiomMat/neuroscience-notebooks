{
 "cells": [
  {
   "cell_type": "markdown",
   "id": "8fe86fea",
   "metadata": {},
   "source": [
    "# Eigenmode of an arbirary $2 \\times 2$ rate model\n",
    "\n",
    "## Eigenmode(Not 100% rigorous)\n",
    "\n",
    "An **eigenmode**(also reffered to as **eigenfunction**, which I like more tbh) is a function that satisfies the following statement:\n",
    "\n",
    "$\\text{Let } L : V \\to V \\text{ be a linear operator}$\n",
    "\n",
    "$\\text{Let } f \\in V \\text{ and } f \\neq 0$\n",
    "\n",
    "$\\text{Then } f \\text{ is an eigenmode of } L \\iff \\exists \\lambda \\in \\mathbb{F} : L f = \\lambda f.$\n",
    "\n",
    "In essence an eigenmode is just an eigenvector, but it's allowed to be dependent on a variable\n",
    "like time.\n",
    "\n",
    "## **Linear** Rate Models(Computational Neuroscience)\n",
    "\n",
    "A fancy name for an ODE that describes the change in a population, a population being an average\n",
    "firing rate of a defined set of entities(say the neurons in the visual-cortex), in terms of a linear \n",
    "operation made on that population over time.\n",
    "\n",
    "A simple usage:\n",
    "\n",
    "$\\text{Let } A : \\mathbb{R}^n \\to \\mathbb{R}^n \\text{ be a linear operator}$\n",
    "\n",
    "$\\text{Let } \\vec{x}(t) \\in \\mathbb{R}^n \\text{ be a vector(our population)}$\n",
    "\n",
    "$\\text{The rate model is } \\frac{d}{dt} \\vec{x}(t) = A \\vec{x}(t)$\n",
    "\n",
    "Note a few things:\n",
    "- As with any linear operator, we *can* and usually *do* describe it using an $n \\times n$ matrix.\n",
    "- $\\vec{x}(t)$ depends on what it was a moment ago according to rate models, which makes logical\n",
    "sense of course in terms of neurology.\n",
    "- Rate models don't have to be linear, so emphasis on \"linear\". In fact, more rigorous theoretical\n",
    "neuroscience uses linear rate models as a base, and then applies more non-linear operators on them.\n",
    "\n",
    "## What we will be doing in this notebook\n",
    "\n",
    "Finding the eigenmode of an arbitrary $2 \\times 2$ rate model, exploring the complexity that arises\n",
    "from even a simple population of $2$.\n"
   ]
  },
  {
   "cell_type": "markdown",
   "id": "d7220423",
   "metadata": {},
   "source": []
  }
 ],
 "metadata": {
  "kernelspec": {
   "display_name": "Python 3 (ipykernel)",
   "language": "python",
   "name": "python3"
  },
  "language_info": {
   "codemirror_mode": {
    "name": "ipython",
    "version": 3
   },
   "file_extension": ".py",
   "mimetype": "text/x-python",
   "name": "python",
   "nbconvert_exporter": "python",
   "pygments_lexer": "ipython3",
   "version": "3.13.7"
  }
 },
 "nbformat": 4,
 "nbformat_minor": 5
}
